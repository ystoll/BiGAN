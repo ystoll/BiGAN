{
 "cells": [
  {
   "cell_type": "code",
   "execution_count": 2,
   "source": [
    "import json\n",
    "import numpy as np\n",
    "import pandas as pd\n",
    "import random\n",
    "from sklearn.experimental import enable_iterative_imputer\n",
    "from sklearn.impute import IterativeImputer\n",
    "import pickle\n",
    "from datetime import timedelta\n",
    "from datetime import datetime"
   ],
   "outputs": [],
   "metadata": {}
  },
  {
   "cell_type": "code",
   "execution_count": 3,
   "source": [
    "TARGET_FIELD = \"zigduino-3:temperature\"\n"
   ],
   "outputs": [],
   "metadata": {}
  },
  {
   "cell_type": "code",
   "execution_count": 4,
   "source": [
    "activity = pd.read_csv('/scratch/stoll/BiGAN/data/ibat/initial/raw_results_demo.csv', header=0).fillna(-200)\n",
    "activity.head()"
   ],
   "outputs": [
    {
     "output_type": "execute_result",
     "data": {
      "text/html": [
       "<div>\n",
       "<style scoped>\n",
       "    .dataframe tbody tr th:only-of-type {\n",
       "        vertical-align: middle;\n",
       "    }\n",
       "\n",
       "    .dataframe tbody tr th {\n",
       "        vertical-align: top;\n",
       "    }\n",
       "\n",
       "    .dataframe thead th {\n",
       "        text-align: right;\n",
       "    }\n",
       "</style>\n",
       "<table border=\"1\" class=\"dataframe\">\n",
       "  <thead>\n",
       "    <tr style=\"text-align: right;\">\n",
       "      <th></th>\n",
       "      <th>date_format</th>\n",
       "      <th>epoch_format</th>\n",
       "      <th>zigduino-3:humidity</th>\n",
       "      <th>zigduino-3:temperature</th>\n",
       "      <th>zigduino-4:humidity</th>\n",
       "      <th>zigduino-4:temperature</th>\n",
       "    </tr>\n",
       "  </thead>\n",
       "  <tbody>\n",
       "    <tr>\n",
       "      <th>0</th>\n",
       "      <td>2020-01-15 00:00:00</td>\n",
       "      <td>1.579046e+12</td>\n",
       "      <td>10.667487</td>\n",
       "      <td>20.460420</td>\n",
       "      <td>1.0</td>\n",
       "      <td>22.143732</td>\n",
       "    </tr>\n",
       "    <tr>\n",
       "      <th>1</th>\n",
       "      <td>2020-01-15 02:00:00</td>\n",
       "      <td>1.579054e+12</td>\n",
       "      <td>10.670172</td>\n",
       "      <td>20.334833</td>\n",
       "      <td>1.0</td>\n",
       "      <td>22.045699</td>\n",
       "    </tr>\n",
       "    <tr>\n",
       "      <th>2</th>\n",
       "      <td>2020-01-15 04:00:00</td>\n",
       "      <td>1.579061e+12</td>\n",
       "      <td>10.368995</td>\n",
       "      <td>20.527430</td>\n",
       "      <td>1.0</td>\n",
       "      <td>22.896719</td>\n",
       "    </tr>\n",
       "    <tr>\n",
       "      <th>3</th>\n",
       "      <td>2020-01-15 06:00:00</td>\n",
       "      <td>1.579068e+12</td>\n",
       "      <td>10.147413</td>\n",
       "      <td>20.864872</td>\n",
       "      <td>1.0</td>\n",
       "      <td>23.479302</td>\n",
       "    </tr>\n",
       "    <tr>\n",
       "      <th>4</th>\n",
       "      <td>2020-01-15 08:00:00</td>\n",
       "      <td>1.579075e+12</td>\n",
       "      <td>9.357395</td>\n",
       "      <td>21.624195</td>\n",
       "      <td>1.0</td>\n",
       "      <td>23.749600</td>\n",
       "    </tr>\n",
       "  </tbody>\n",
       "</table>\n",
       "</div>"
      ],
      "text/plain": [
       "           date_format  epoch_format  zigduino-3:humidity  \\\n",
       "0  2020-01-15 00:00:00  1.579046e+12            10.667487   \n",
       "1  2020-01-15 02:00:00  1.579054e+12            10.670172   \n",
       "2  2020-01-15 04:00:00  1.579061e+12            10.368995   \n",
       "3  2020-01-15 06:00:00  1.579068e+12            10.147413   \n",
       "4  2020-01-15 08:00:00  1.579075e+12             9.357395   \n",
       "\n",
       "   zigduino-3:temperature  zigduino-4:humidity  zigduino-4:temperature  \n",
       "0               20.460420                  1.0               22.143732  \n",
       "1               20.334833                  1.0               22.045699  \n",
       "2               20.527430                  1.0               22.896719  \n",
       "3               20.864872                  1.0               23.479302  \n",
       "4               21.624195                  1.0               23.749600  "
      ]
     },
     "metadata": {},
     "execution_count": 4
    }
   ],
   "metadata": {}
  },
  {
   "cell_type": "code",
   "execution_count": 5,
   "source": [
    "activity[\"timestamp\"] = pd.to_datetime(activity[\"date_format\"])\n",
    "activity[\"Date\"] = pd.to_datetime(activity[\"timestamp\"].dt.date, utc=False)\n",
    "activity[\"Time\"] = activity[\"timestamp\"].dt.time.astype(str)\n",
    "activity[\"Month\"] = activity.Date.dt.month\n",
    "\n",
    "\n",
    "activity.dtypes"
   ],
   "outputs": [
    {
     "output_type": "execute_result",
     "data": {
      "text/plain": [
       "date_format                       object\n",
       "epoch_format                     float64\n",
       "zigduino-3:humidity              float64\n",
       "zigduino-3:temperature           float64\n",
       "zigduino-4:humidity              float64\n",
       "zigduino-4:temperature           float64\n",
       "timestamp                 datetime64[ns]\n",
       "Date                      datetime64[ns]\n",
       "Time                              object\n",
       "Month                              int64\n",
       "dtype: object"
      ]
     },
     "metadata": {},
     "execution_count": 5
    }
   ],
   "metadata": {}
  },
  {
   "cell_type": "code",
   "execution_count": 6,
   "source": [
    "activity.head()"
   ],
   "outputs": [
    {
     "output_type": "execute_result",
     "data": {
      "text/html": [
       "<div>\n",
       "<style scoped>\n",
       "    .dataframe tbody tr th:only-of-type {\n",
       "        vertical-align: middle;\n",
       "    }\n",
       "\n",
       "    .dataframe tbody tr th {\n",
       "        vertical-align: top;\n",
       "    }\n",
       "\n",
       "    .dataframe thead th {\n",
       "        text-align: right;\n",
       "    }\n",
       "</style>\n",
       "<table border=\"1\" class=\"dataframe\">\n",
       "  <thead>\n",
       "    <tr style=\"text-align: right;\">\n",
       "      <th></th>\n",
       "      <th>date_format</th>\n",
       "      <th>epoch_format</th>\n",
       "      <th>zigduino-3:humidity</th>\n",
       "      <th>zigduino-3:temperature</th>\n",
       "      <th>zigduino-4:humidity</th>\n",
       "      <th>zigduino-4:temperature</th>\n",
       "      <th>timestamp</th>\n",
       "      <th>Date</th>\n",
       "      <th>Time</th>\n",
       "      <th>Month</th>\n",
       "    </tr>\n",
       "  </thead>\n",
       "  <tbody>\n",
       "    <tr>\n",
       "      <th>0</th>\n",
       "      <td>2020-01-15 00:00:00</td>\n",
       "      <td>1.579046e+12</td>\n",
       "      <td>10.667487</td>\n",
       "      <td>20.460420</td>\n",
       "      <td>1.0</td>\n",
       "      <td>22.143732</td>\n",
       "      <td>2020-01-15 00:00:00</td>\n",
       "      <td>2020-01-15</td>\n",
       "      <td>00:00:00</td>\n",
       "      <td>1</td>\n",
       "    </tr>\n",
       "    <tr>\n",
       "      <th>1</th>\n",
       "      <td>2020-01-15 02:00:00</td>\n",
       "      <td>1.579054e+12</td>\n",
       "      <td>10.670172</td>\n",
       "      <td>20.334833</td>\n",
       "      <td>1.0</td>\n",
       "      <td>22.045699</td>\n",
       "      <td>2020-01-15 02:00:00</td>\n",
       "      <td>2020-01-15</td>\n",
       "      <td>02:00:00</td>\n",
       "      <td>1</td>\n",
       "    </tr>\n",
       "    <tr>\n",
       "      <th>2</th>\n",
       "      <td>2020-01-15 04:00:00</td>\n",
       "      <td>1.579061e+12</td>\n",
       "      <td>10.368995</td>\n",
       "      <td>20.527430</td>\n",
       "      <td>1.0</td>\n",
       "      <td>22.896719</td>\n",
       "      <td>2020-01-15 04:00:00</td>\n",
       "      <td>2020-01-15</td>\n",
       "      <td>04:00:00</td>\n",
       "      <td>1</td>\n",
       "    </tr>\n",
       "    <tr>\n",
       "      <th>3</th>\n",
       "      <td>2020-01-15 06:00:00</td>\n",
       "      <td>1.579068e+12</td>\n",
       "      <td>10.147413</td>\n",
       "      <td>20.864872</td>\n",
       "      <td>1.0</td>\n",
       "      <td>23.479302</td>\n",
       "      <td>2020-01-15 06:00:00</td>\n",
       "      <td>2020-01-15</td>\n",
       "      <td>06:00:00</td>\n",
       "      <td>1</td>\n",
       "    </tr>\n",
       "    <tr>\n",
       "      <th>4</th>\n",
       "      <td>2020-01-15 08:00:00</td>\n",
       "      <td>1.579075e+12</td>\n",
       "      <td>9.357395</td>\n",
       "      <td>21.624195</td>\n",
       "      <td>1.0</td>\n",
       "      <td>23.749600</td>\n",
       "      <td>2020-01-15 08:00:00</td>\n",
       "      <td>2020-01-15</td>\n",
       "      <td>08:00:00</td>\n",
       "      <td>1</td>\n",
       "    </tr>\n",
       "  </tbody>\n",
       "</table>\n",
       "</div>"
      ],
      "text/plain": [
       "           date_format  epoch_format  zigduino-3:humidity  \\\n",
       "0  2020-01-15 00:00:00  1.579046e+12            10.667487   \n",
       "1  2020-01-15 02:00:00  1.579054e+12            10.670172   \n",
       "2  2020-01-15 04:00:00  1.579061e+12            10.368995   \n",
       "3  2020-01-15 06:00:00  1.579068e+12            10.147413   \n",
       "4  2020-01-15 08:00:00  1.579075e+12             9.357395   \n",
       "\n",
       "   zigduino-3:temperature  zigduino-4:humidity  zigduino-4:temperature  \\\n",
       "0               20.460420                  1.0               22.143732   \n",
       "1               20.334833                  1.0               22.045699   \n",
       "2               20.527430                  1.0               22.896719   \n",
       "3               20.864872                  1.0               23.479302   \n",
       "4               21.624195                  1.0               23.749600   \n",
       "\n",
       "            timestamp       Date      Time  Month  \n",
       "0 2020-01-15 00:00:00 2020-01-15  00:00:00      1  \n",
       "1 2020-01-15 02:00:00 2020-01-15  02:00:00      1  \n",
       "2 2020-01-15 04:00:00 2020-01-15  04:00:00      1  \n",
       "3 2020-01-15 06:00:00 2020-01-15  06:00:00      1  \n",
       "4 2020-01-15 08:00:00 2020-01-15  08:00:00      1  "
      ]
     },
     "metadata": {},
     "execution_count": 6
    }
   ],
   "metadata": {}
  },
  {
   "cell_type": "code",
   "execution_count": 7,
   "source": [
    "cols = activity.columns.to_list()\n",
    "cols = cols[-3:] + cols[:-3]\n",
    "activity = activity[cols]\n",
    "activity.drop([\"date_format\", \"timestamp\"], axis=1, inplace=True)\n"
   ],
   "outputs": [],
   "metadata": {}
  },
  {
   "cell_type": "code",
   "execution_count": 8,
   "source": [
    "activity.isna().sum()"
   ],
   "outputs": [
    {
     "output_type": "execute_result",
     "data": {
      "text/plain": [
       "Date                      0\n",
       "Time                      0\n",
       "Month                     0\n",
       "epoch_format              0\n",
       "zigduino-3:humidity       0\n",
       "zigduino-3:temperature    0\n",
       "zigduino-4:humidity       0\n",
       "zigduino-4:temperature    0\n",
       "dtype: int64"
      ]
     },
     "metadata": {},
     "execution_count": 8
    }
   ],
   "metadata": {}
  },
  {
   "cell_type": "code",
   "execution_count": 32,
   "source": [
    "# Basiquement, tout ce qui suit regroupe les lignes par paquets de 20 pour l'entrainement.\n",
    "\n",
    "rows = activity.groupby('Month').count()['Date']\n",
    "rows"
   ],
   "outputs": [
    {
     "output_type": "execute_result",
     "data": {
      "text/plain": [
       "Month\n",
       "1    204\n",
       "2    348\n",
       "3    372\n",
       "4    330\n",
       "Name: Date, dtype: int64"
      ]
     },
     "metadata": {},
     "execution_count": 32
    }
   ],
   "metadata": {}
  },
  {
   "cell_type": "code",
   "execution_count": 31,
   "source": [
    "rows = activity.groupby('Month').count()['Date']%20\n",
    "rows"
   ],
   "outputs": [
    {
     "output_type": "execute_result",
     "data": {
      "text/plain": [
       "Month\n",
       "1     4\n",
       "2     8\n",
       "3    12\n",
       "4    10\n",
       "Name: Date, dtype: int64"
      ]
     },
     "metadata": {},
     "execution_count": 31
    }
   ],
   "metadata": {}
  },
  {
   "cell_type": "code",
   "execution_count": 15,
   "source": [
    "rows = pd.DataFrame(rows)\n",
    "rows = rows.reset_index()"
   ],
   "outputs": [],
   "metadata": {}
  },
  {
   "cell_type": "code",
   "execution_count": 16,
   "source": [
    "final = pd.DataFrame()\n",
    "for seq in range(rows.shape[0]):\n",
    "    # print(rows.iloc[seq, 0])\n",
    "    # print(rows.iloc[seq, 1])\n",
    "    \n",
    "    temp = activity[activity['Month'] == rows.iloc[seq, 0]]\n",
    "    #print(temp.shape)\n",
    "    nrows = temp.shape[0] - rows.iloc[seq, 1]\n",
    "    temp = temp.iloc[0:nrows, :]\n",
    "    #print(temp.shape)\n",
    "    #print(temp.shape[0]%20)\n",
    "    final = pd.concat([final, temp])\n",
    "\n",
    "final.shape"
   ],
   "outputs": [
    {
     "output_type": "execute_result",
     "data": {
      "text/plain": [
       "(1220, 8)"
      ]
     },
     "metadata": {},
     "execution_count": 16
    }
   ],
   "metadata": {}
  },
  {
   "cell_type": "code",
   "execution_count": 11,
   "source": [
    "\n",
    "# On a bien regroupé les lignes par paques de 20\n",
    "final.groupby('Month').count()['Date']%20"
   ],
   "outputs": [
    {
     "output_type": "execute_result",
     "data": {
      "text/plain": [
       "Month\n",
       "1    0\n",
       "2    0\n",
       "3    0\n",
       "4    0\n",
       "Name: Date, dtype: int64"
      ]
     },
     "metadata": {},
     "execution_count": 11
    }
   ],
   "metadata": {}
  },
  {
   "cell_type": "code",
   "execution_count": 36,
   "source": [
    "# pd.concat([activity, final]).drop_duplicates(keep=False)"
   ],
   "outputs": [],
   "metadata": {}
  },
  {
   "cell_type": "code",
   "execution_count": 10,
   "source": [
    "# activity.head()"
   ],
   "outputs": [
    {
     "output_type": "execute_result",
     "data": {
      "text/html": [
       "<div>\n",
       "<style scoped>\n",
       "    .dataframe tbody tr th:only-of-type {\n",
       "        vertical-align: middle;\n",
       "    }\n",
       "\n",
       "    .dataframe tbody tr th {\n",
       "        vertical-align: top;\n",
       "    }\n",
       "\n",
       "    .dataframe thead th {\n",
       "        text-align: right;\n",
       "    }\n",
       "</style>\n",
       "<table border=\"1\" class=\"dataframe\">\n",
       "  <thead>\n",
       "    <tr style=\"text-align: right;\">\n",
       "      <th></th>\n",
       "      <th>Date</th>\n",
       "      <th>Time</th>\n",
       "      <th>Month</th>\n",
       "      <th>epoch_format</th>\n",
       "      <th>zigduino-3:humidity</th>\n",
       "      <th>zigduino-3:temperature</th>\n",
       "      <th>zigduino-4:humidity</th>\n",
       "      <th>zigduino-4:temperature</th>\n",
       "    </tr>\n",
       "  </thead>\n",
       "  <tbody>\n",
       "    <tr>\n",
       "      <th>0</th>\n",
       "      <td>2020-01-15</td>\n",
       "      <td>00:00:00</td>\n",
       "      <td>1</td>\n",
       "      <td>1.579046e+12</td>\n",
       "      <td>10.667487</td>\n",
       "      <td>20.460420</td>\n",
       "      <td>1.0</td>\n",
       "      <td>22.143732</td>\n",
       "    </tr>\n",
       "    <tr>\n",
       "      <th>1</th>\n",
       "      <td>2020-01-15</td>\n",
       "      <td>02:00:00</td>\n",
       "      <td>1</td>\n",
       "      <td>1.579054e+12</td>\n",
       "      <td>10.670172</td>\n",
       "      <td>20.334833</td>\n",
       "      <td>1.0</td>\n",
       "      <td>22.045699</td>\n",
       "    </tr>\n",
       "    <tr>\n",
       "      <th>2</th>\n",
       "      <td>2020-01-15</td>\n",
       "      <td>04:00:00</td>\n",
       "      <td>1</td>\n",
       "      <td>1.579061e+12</td>\n",
       "      <td>10.368995</td>\n",
       "      <td>20.527430</td>\n",
       "      <td>1.0</td>\n",
       "      <td>22.896719</td>\n",
       "    </tr>\n",
       "    <tr>\n",
       "      <th>3</th>\n",
       "      <td>2020-01-15</td>\n",
       "      <td>06:00:00</td>\n",
       "      <td>1</td>\n",
       "      <td>1.579068e+12</td>\n",
       "      <td>10.147413</td>\n",
       "      <td>20.864872</td>\n",
       "      <td>1.0</td>\n",
       "      <td>23.479302</td>\n",
       "    </tr>\n",
       "    <tr>\n",
       "      <th>4</th>\n",
       "      <td>2020-01-15</td>\n",
       "      <td>08:00:00</td>\n",
       "      <td>1</td>\n",
       "      <td>1.579075e+12</td>\n",
       "      <td>9.357395</td>\n",
       "      <td>21.624195</td>\n",
       "      <td>1.0</td>\n",
       "      <td>23.749600</td>\n",
       "    </tr>\n",
       "  </tbody>\n",
       "</table>\n",
       "</div>"
      ],
      "text/plain": [
       "        Date      Time  Month  epoch_format  zigduino-3:humidity  \\\n",
       "0 2020-01-15  00:00:00      1  1.579046e+12            10.667487   \n",
       "1 2020-01-15  02:00:00      1  1.579054e+12            10.670172   \n",
       "2 2020-01-15  04:00:00      1  1.579061e+12            10.368995   \n",
       "3 2020-01-15  06:00:00      1  1.579068e+12            10.147413   \n",
       "4 2020-01-15  08:00:00      1  1.579075e+12             9.357395   \n",
       "\n",
       "   zigduino-3:temperature  zigduino-4:humidity  zigduino-4:temperature  \n",
       "0               20.460420                  1.0               22.143732  \n",
       "1               20.334833                  1.0               22.045699  \n",
       "2               20.527430                  1.0               22.896719  \n",
       "3               20.864872                  1.0               23.479302  \n",
       "4               21.624195                  1.0               23.749600  "
      ]
     },
     "metadata": {},
     "execution_count": 10
    }
   ],
   "metadata": {}
  },
  {
   "cell_type": "code",
   "execution_count": 12,
   "source": [
    "# final.head()"
   ],
   "outputs": [
    {
     "output_type": "execute_result",
     "data": {
      "text/html": [
       "<div>\n",
       "<style scoped>\n",
       "    .dataframe tbody tr th:only-of-type {\n",
       "        vertical-align: middle;\n",
       "    }\n",
       "\n",
       "    .dataframe tbody tr th {\n",
       "        vertical-align: top;\n",
       "    }\n",
       "\n",
       "    .dataframe thead th {\n",
       "        text-align: right;\n",
       "    }\n",
       "</style>\n",
       "<table border=\"1\" class=\"dataframe\">\n",
       "  <thead>\n",
       "    <tr style=\"text-align: right;\">\n",
       "      <th></th>\n",
       "      <th>Date</th>\n",
       "      <th>Time</th>\n",
       "      <th>Month</th>\n",
       "      <th>epoch_format</th>\n",
       "      <th>zigduino-3:humidity</th>\n",
       "      <th>zigduino-3:temperature</th>\n",
       "      <th>zigduino-4:humidity</th>\n",
       "      <th>zigduino-4:temperature</th>\n",
       "    </tr>\n",
       "  </thead>\n",
       "  <tbody>\n",
       "    <tr>\n",
       "      <th>0</th>\n",
       "      <td>2020-01-15</td>\n",
       "      <td>00:00:00</td>\n",
       "      <td>1</td>\n",
       "      <td>1.579046e+12</td>\n",
       "      <td>10.667487</td>\n",
       "      <td>20.460420</td>\n",
       "      <td>1.0</td>\n",
       "      <td>22.143732</td>\n",
       "    </tr>\n",
       "    <tr>\n",
       "      <th>1</th>\n",
       "      <td>2020-01-15</td>\n",
       "      <td>02:00:00</td>\n",
       "      <td>1</td>\n",
       "      <td>1.579054e+12</td>\n",
       "      <td>10.670172</td>\n",
       "      <td>20.334833</td>\n",
       "      <td>1.0</td>\n",
       "      <td>22.045699</td>\n",
       "    </tr>\n",
       "    <tr>\n",
       "      <th>2</th>\n",
       "      <td>2020-01-15</td>\n",
       "      <td>04:00:00</td>\n",
       "      <td>1</td>\n",
       "      <td>1.579061e+12</td>\n",
       "      <td>10.368995</td>\n",
       "      <td>20.527430</td>\n",
       "      <td>1.0</td>\n",
       "      <td>22.896719</td>\n",
       "    </tr>\n",
       "    <tr>\n",
       "      <th>3</th>\n",
       "      <td>2020-01-15</td>\n",
       "      <td>06:00:00</td>\n",
       "      <td>1</td>\n",
       "      <td>1.579068e+12</td>\n",
       "      <td>10.147413</td>\n",
       "      <td>20.864872</td>\n",
       "      <td>1.0</td>\n",
       "      <td>23.479302</td>\n",
       "    </tr>\n",
       "    <tr>\n",
       "      <th>4</th>\n",
       "      <td>2020-01-15</td>\n",
       "      <td>08:00:00</td>\n",
       "      <td>1</td>\n",
       "      <td>1.579075e+12</td>\n",
       "      <td>9.357395</td>\n",
       "      <td>21.624195</td>\n",
       "      <td>1.0</td>\n",
       "      <td>23.749600</td>\n",
       "    </tr>\n",
       "  </tbody>\n",
       "</table>\n",
       "</div>"
      ],
      "text/plain": [
       "        Date      Time  Month  epoch_format  zigduino-3:humidity  \\\n",
       "0 2020-01-15  00:00:00      1  1.579046e+12            10.667487   \n",
       "1 2020-01-15  02:00:00      1  1.579054e+12            10.670172   \n",
       "2 2020-01-15  04:00:00      1  1.579061e+12            10.368995   \n",
       "3 2020-01-15  06:00:00      1  1.579068e+12            10.147413   \n",
       "4 2020-01-15  08:00:00      1  1.579075e+12             9.357395   \n",
       "\n",
       "   zigduino-3:temperature  zigduino-4:humidity  zigduino-4:temperature  \n",
       "0               20.460420                  1.0               22.143732  \n",
       "1               20.334833                  1.0               22.045699  \n",
       "2               20.527430                  1.0               22.896719  \n",
       "3               20.864872                  1.0               23.479302  \n",
       "4               21.624195                  1.0               23.749600  "
      ]
     },
     "metadata": {},
     "execution_count": 12
    }
   ],
   "metadata": {}
  },
  {
   "cell_type": "code",
   "execution_count": 13,
   "source": [
    "final.groupby('Month').count()['Time']"
   ],
   "outputs": [
    {
     "output_type": "execute_result",
     "data": {
      "text/plain": [
       "Month\n",
       "1    200\n",
       "2    340\n",
       "3    360\n",
       "4    320\n",
       "Name: Time, dtype: int64"
      ]
     },
     "metadata": {},
     "execution_count": 13
    }
   ],
   "metadata": {}
  },
  {
   "cell_type": "code",
   "execution_count": 14,
   "source": [
    "(final[final[TARGET_FIELD] == -200].count())"
   ],
   "outputs": [
    {
     "output_type": "execute_result",
     "data": {
      "text/plain": [
       "Date                      82\n",
       "Time                      82\n",
       "Month                     82\n",
       "epoch_format              82\n",
       "zigduino-3:humidity       82\n",
       "zigduino-3:temperature    82\n",
       "zigduino-4:humidity       82\n",
       "zigduino-4:temperature    82\n",
       "dtype: int64"
      ]
     },
     "metadata": {},
     "execution_count": 14
    }
   ],
   "metadata": {}
  },
  {
   "cell_type": "code",
   "execution_count": 46,
   "source": [
    "activity_train_essai.head()"
   ],
   "outputs": [
    {
     "output_type": "execute_result",
     "data": {
      "text/html": [
       "<div>\n",
       "<style scoped>\n",
       "    .dataframe tbody tr th:only-of-type {\n",
       "        vertical-align: middle;\n",
       "    }\n",
       "\n",
       "    .dataframe tbody tr th {\n",
       "        vertical-align: top;\n",
       "    }\n",
       "\n",
       "    .dataframe thead th {\n",
       "        text-align: right;\n",
       "    }\n",
       "</style>\n",
       "<table border=\"1\" class=\"dataframe\">\n",
       "  <thead>\n",
       "    <tr style=\"text-align: right;\">\n",
       "      <th></th>\n",
       "      <th>Date</th>\n",
       "      <th>Time</th>\n",
       "      <th>Month</th>\n",
       "      <th>epoch_format</th>\n",
       "      <th>zigduino-3:humidity</th>\n",
       "      <th>zigduino-3:temperature</th>\n",
       "      <th>zigduino-4:humidity</th>\n",
       "      <th>zigduino-4:temperature</th>\n",
       "    </tr>\n",
       "  </thead>\n",
       "  <tbody>\n",
       "    <tr>\n",
       "      <th>0</th>\n",
       "      <td>2020-01-15</td>\n",
       "      <td>00:00:00</td>\n",
       "      <td>1</td>\n",
       "      <td>1.579046e+12</td>\n",
       "      <td>10.667487</td>\n",
       "      <td>20.460420</td>\n",
       "      <td>1.0</td>\n",
       "      <td>22.143732</td>\n",
       "    </tr>\n",
       "    <tr>\n",
       "      <th>1</th>\n",
       "      <td>2020-01-15</td>\n",
       "      <td>02:00:00</td>\n",
       "      <td>1</td>\n",
       "      <td>1.579054e+12</td>\n",
       "      <td>10.670172</td>\n",
       "      <td>20.334833</td>\n",
       "      <td>1.0</td>\n",
       "      <td>22.045699</td>\n",
       "    </tr>\n",
       "    <tr>\n",
       "      <th>2</th>\n",
       "      <td>2020-01-15</td>\n",
       "      <td>04:00:00</td>\n",
       "      <td>1</td>\n",
       "      <td>1.579061e+12</td>\n",
       "      <td>10.368995</td>\n",
       "      <td>20.527430</td>\n",
       "      <td>1.0</td>\n",
       "      <td>22.896719</td>\n",
       "    </tr>\n",
       "    <tr>\n",
       "      <th>3</th>\n",
       "      <td>2020-01-15</td>\n",
       "      <td>06:00:00</td>\n",
       "      <td>1</td>\n",
       "      <td>1.579068e+12</td>\n",
       "      <td>10.147413</td>\n",
       "      <td>20.864872</td>\n",
       "      <td>1.0</td>\n",
       "      <td>23.479302</td>\n",
       "    </tr>\n",
       "    <tr>\n",
       "      <th>4</th>\n",
       "      <td>2020-01-15</td>\n",
       "      <td>08:00:00</td>\n",
       "      <td>1</td>\n",
       "      <td>1.579075e+12</td>\n",
       "      <td>9.357395</td>\n",
       "      <td>21.624195</td>\n",
       "      <td>1.0</td>\n",
       "      <td>23.749600</td>\n",
       "    </tr>\n",
       "  </tbody>\n",
       "</table>\n",
       "</div>"
      ],
      "text/plain": [
       "        Date      Time  Month  epoch_format  zigduino-3:humidity  \\\n",
       "0 2020-01-15  00:00:00      1  1.579046e+12            10.667487   \n",
       "1 2020-01-15  02:00:00      1  1.579054e+12            10.670172   \n",
       "2 2020-01-15  04:00:00      1  1.579061e+12            10.368995   \n",
       "3 2020-01-15  06:00:00      1  1.579068e+12            10.147413   \n",
       "4 2020-01-15  08:00:00      1  1.579075e+12             9.357395   \n",
       "\n",
       "   zigduino-3:temperature  zigduino-4:humidity  zigduino-4:temperature  \n",
       "0               20.460420                  1.0               22.143732  \n",
       "1               20.334833                  1.0               22.045699  \n",
       "2               20.527430                  1.0               22.896719  \n",
       "3               20.864872                  1.0               23.479302  \n",
       "4               21.624195                  1.0               23.749600  "
      ]
     },
     "metadata": {},
     "execution_count": 46
    }
   ],
   "metadata": {}
  },
  {
   "cell_type": "code",
   "execution_count": 47,
   "source": [
    "activity_test_essai.head()"
   ],
   "outputs": [
    {
     "output_type": "execute_result",
     "data": {
      "text/html": [
       "<div>\n",
       "<style scoped>\n",
       "    .dataframe tbody tr th:only-of-type {\n",
       "        vertical-align: middle;\n",
       "    }\n",
       "\n",
       "    .dataframe tbody tr th {\n",
       "        vertical-align: top;\n",
       "    }\n",
       "\n",
       "    .dataframe thead th {\n",
       "        text-align: right;\n",
       "    }\n",
       "</style>\n",
       "<table border=\"1\" class=\"dataframe\">\n",
       "  <thead>\n",
       "    <tr style=\"text-align: right;\">\n",
       "      <th></th>\n",
       "      <th>Date</th>\n",
       "      <th>Time</th>\n",
       "      <th>Month</th>\n",
       "      <th>epoch_format</th>\n",
       "      <th>zigduino-3:humidity</th>\n",
       "      <th>zigduino-3:temperature</th>\n",
       "      <th>zigduino-4:humidity</th>\n",
       "      <th>zigduino-4:temperature</th>\n",
       "    </tr>\n",
       "  </thead>\n",
       "  <tbody>\n",
       "    <tr>\n",
       "      <th>1000</th>\n",
       "      <td>2020-04-07</td>\n",
       "      <td>08:00:00</td>\n",
       "      <td>4</td>\n",
       "      <td>1.586246e+12</td>\n",
       "      <td>12.121608</td>\n",
       "      <td>19.366499</td>\n",
       "      <td>1.0</td>\n",
       "      <td>20.061508</td>\n",
       "    </tr>\n",
       "    <tr>\n",
       "      <th>1001</th>\n",
       "      <td>2020-04-07</td>\n",
       "      <td>10:00:00</td>\n",
       "      <td>4</td>\n",
       "      <td>1.586254e+12</td>\n",
       "      <td>12.474121</td>\n",
       "      <td>19.593021</td>\n",
       "      <td>1.0</td>\n",
       "      <td>20.140503</td>\n",
       "    </tr>\n",
       "    <tr>\n",
       "      <th>1002</th>\n",
       "      <td>2020-04-07</td>\n",
       "      <td>12:00:00</td>\n",
       "      <td>4</td>\n",
       "      <td>1.586261e+12</td>\n",
       "      <td>12.585511</td>\n",
       "      <td>19.978950</td>\n",
       "      <td>1.0</td>\n",
       "      <td>20.549156</td>\n",
       "    </tr>\n",
       "    <tr>\n",
       "      <th>1003</th>\n",
       "      <td>2020-04-07</td>\n",
       "      <td>14:00:00</td>\n",
       "      <td>4</td>\n",
       "      <td>1.586268e+12</td>\n",
       "      <td>12.168807</td>\n",
       "      <td>20.333412</td>\n",
       "      <td>1.0</td>\n",
       "      <td>20.948458</td>\n",
       "    </tr>\n",
       "    <tr>\n",
       "      <th>1004</th>\n",
       "      <td>2020-04-07</td>\n",
       "      <td>16:00:00</td>\n",
       "      <td>4</td>\n",
       "      <td>1.586275e+12</td>\n",
       "      <td>11.966499</td>\n",
       "      <td>20.520952</td>\n",
       "      <td>1.0</td>\n",
       "      <td>21.171818</td>\n",
       "    </tr>\n",
       "  </tbody>\n",
       "</table>\n",
       "</div>"
      ],
      "text/plain": [
       "           Date      Time  Month  epoch_format  zigduino-3:humidity  \\\n",
       "1000 2020-04-07  08:00:00      4  1.586246e+12            12.121608   \n",
       "1001 2020-04-07  10:00:00      4  1.586254e+12            12.474121   \n",
       "1002 2020-04-07  12:00:00      4  1.586261e+12            12.585511   \n",
       "1003 2020-04-07  14:00:00      4  1.586268e+12            12.168807   \n",
       "1004 2020-04-07  16:00:00      4  1.586275e+12            11.966499   \n",
       "\n",
       "      zigduino-3:temperature  zigduino-4:humidity  zigduino-4:temperature  \n",
       "1000               19.366499                  1.0               20.061508  \n",
       "1001               19.593021                  1.0               20.140503  \n",
       "1002               19.978950                  1.0               20.549156  \n",
       "1003               20.333412                  1.0               20.948458  \n",
       "1004               20.520952                  1.0               21.171818  "
      ]
     },
     "metadata": {},
     "execution_count": 47
    }
   ],
   "metadata": {}
  },
  {
   "cell_type": "code",
   "execution_count": 41,
   "source": [
    "976 + 244"
   ],
   "outputs": [
    {
     "output_type": "execute_result",
     "data": {
      "text/plain": [
       "1220"
      ]
     },
     "metadata": {},
     "execution_count": 41
    }
   ],
   "metadata": {}
  },
  {
   "cell_type": "code",
   "execution_count": 45,
   "source": [
    "from sklearn.model_selection import train_test_split\n",
    "\n",
    "activity_train_essai, activity_test_essai = train_test_split(final, train_size=0.8, shuffle=False) # shuffle = False important!\n",
    "print(activity_train_essai.shape)\n",
    "print(activity_test_essai.shape)\n"
   ],
   "outputs": [
    {
     "output_type": "stream",
     "name": "stdout",
     "text": [
      "(976, 8)\n",
      "(244, 8)\n"
     ]
    }
   ],
   "metadata": {}
  },
  {
   "cell_type": "code",
   "execution_count": 15,
   "source": [
    "# activityTrain = final[final['Month'].isin([3, 4, 6, 8, 9, 11, 12, 13, 15, 16])]\n",
    "# activityVal = final[final['Month'].isin([5])]\n",
    "# activityTest = final[final['Month'].isin([7, 10, 14])]\n",
    "\n",
    "activityTrain = final[final['Month'].isin([1, 4])]\n",
    "activityVal = final[final['Month'].isin([3])]\n",
    "activityTest = final[final['Month'].isain([2])]"
   ],
   "outputs": [],
   "metadata": {}
  },
  {
   "cell_type": "code",
   "execution_count": 16,
   "source": [
    "# maskTrain = pd.DataFrame(np.ones((activityTrain.shape[0], activityTrain.shape[1])), columns=activityTrain.columns)\n",
    "# maskTrain['Time']=activityTrain['Time']"
   ],
   "outputs": [],
   "metadata": {}
  },
  {
   "cell_type": "code",
   "execution_count": 17,
   "source": [
    "maskTrain = activityTrain[[TARGET_FIELD, 'Date', 'Time']].copy()\n",
    "maskTrain[maskTrain[TARGET_FIELD] != -200] = 1\n",
    "maskTrain[maskTrain[TARGET_FIELD] == -200] = 0\n",
    "maskTrain[['Date','Time']] = activityTrain[['Date', 'Time']].copy()\n",
    "\n",
    "maskVal=activityVal[[TARGET_FIELD, 'Date', 'Time']].copy()\n",
    "maskVal[maskVal[TARGET_FIELD] != -200] = 1\n",
    "maskVal[maskVal[TARGET_FIELD] == -200] = 0\n",
    "maskVal[['Date', 'Time']] = activityVal[['Date', 'Time']].copy()\n",
    "\n",
    "maskTest=activityTest[[TARGET_FIELD, 'Date', 'Time']].copy()\n",
    "maskTest[maskTest[TARGET_FIELD] != -200] = 1\n",
    "maskTest[maskTest[TARGET_FIELD] == -200] = 0\n",
    "maskTest[['Date', 'Time']] = activityTest[['Date', 'Time']].copy()\n"
   ],
   "outputs": [],
   "metadata": {}
  },
  {
   "cell_type": "code",
   "execution_count": 18,
   "source": [
    "print(activityTest[TARGET_FIELD].isna().sum())"
   ],
   "outputs": [
    {
     "output_type": "stream",
     "name": "stdout",
     "text": [
      "0\n"
     ]
    }
   ],
   "metadata": {}
  },
  {
   "cell_type": "code",
   "execution_count": 19,
   "source": [
    "activityTest = activityTest.fillna(0)"
   ],
   "outputs": [],
   "metadata": {}
  },
  {
   "cell_type": "code",
   "execution_count": 20,
   "source": [
    "maskTrain.head()"
   ],
   "outputs": [
    {
     "output_type": "execute_result",
     "data": {
      "text/html": [
       "<div>\n",
       "<style scoped>\n",
       "    .dataframe tbody tr th:only-of-type {\n",
       "        vertical-align: middle;\n",
       "    }\n",
       "\n",
       "    .dataframe tbody tr th {\n",
       "        vertical-align: top;\n",
       "    }\n",
       "\n",
       "    .dataframe thead th {\n",
       "        text-align: right;\n",
       "    }\n",
       "</style>\n",
       "<table border=\"1\" class=\"dataframe\">\n",
       "  <thead>\n",
       "    <tr style=\"text-align: right;\">\n",
       "      <th></th>\n",
       "      <th>zigduino-3:temperature</th>\n",
       "      <th>Date</th>\n",
       "      <th>Time</th>\n",
       "    </tr>\n",
       "  </thead>\n",
       "  <tbody>\n",
       "    <tr>\n",
       "      <th>0</th>\n",
       "      <td>1.0</td>\n",
       "      <td>2020-01-15</td>\n",
       "      <td>00:00:00</td>\n",
       "    </tr>\n",
       "    <tr>\n",
       "      <th>1</th>\n",
       "      <td>1.0</td>\n",
       "      <td>2020-01-15</td>\n",
       "      <td>02:00:00</td>\n",
       "    </tr>\n",
       "    <tr>\n",
       "      <th>2</th>\n",
       "      <td>1.0</td>\n",
       "      <td>2020-01-15</td>\n",
       "      <td>04:00:00</td>\n",
       "    </tr>\n",
       "    <tr>\n",
       "      <th>3</th>\n",
       "      <td>1.0</td>\n",
       "      <td>2020-01-15</td>\n",
       "      <td>06:00:00</td>\n",
       "    </tr>\n",
       "    <tr>\n",
       "      <th>4</th>\n",
       "      <td>1.0</td>\n",
       "      <td>2020-01-15</td>\n",
       "      <td>08:00:00</td>\n",
       "    </tr>\n",
       "  </tbody>\n",
       "</table>\n",
       "</div>"
      ],
      "text/plain": [
       "   zigduino-3:temperature       Date      Time\n",
       "0                     1.0 2020-01-15  00:00:00\n",
       "1                     1.0 2020-01-15  02:00:00\n",
       "2                     1.0 2020-01-15  04:00:00\n",
       "3                     1.0 2020-01-15  06:00:00\n",
       "4                     1.0 2020-01-15  08:00:00"
      ]
     },
     "metadata": {},
     "execution_count": 20
    }
   ],
   "metadata": {}
  },
  {
   "cell_type": "code",
   "execution_count": 21,
   "source": [
    "#decay\n",
    "def decay(data):\n",
    "    # print(data.head())\n",
    "    data['interval'] = 0\n",
    "    # df=data.groupby('person_id')\n",
    "    j=0\n",
    "    for n in range(int(data.shape[0]/20)):\n",
    "        i=0\n",
    "        # print(n)\n",
    "        df_group = data.iloc[n * 20:(n * 20) + 20, :]\n",
    "        for index, row in df_group.iterrows(): # go over mask\n",
    "            try:\n",
    "                if(i==0):\n",
    "                    row['interval']=0\n",
    "                    i=1\n",
    "                else:\n",
    "                    if(prev[TARGET_FIELD] == 1):\n",
    "                        row['interval'] = timedelta.total_seconds(datetime.strptime(str(row['Date'])[:10] + \" \" + str(row['Time']), \"%Y-%m-%d %H:%M:%S\")\n",
    "                                                                - datetime.strptime(str(prev['Date'])[:10] + \" \" + str(prev['Time']), \"%Y-%m-%d %H:%M:%S\"))\n",
    "                    elif(prev[TARGET_FIELD] == 0):\n",
    "                        row['interval'] = timedelta.total_seconds(datetime.strptime(str(row['Date'])[:10] + \" \" + str(row['Time']), \"%Y-%m-%d %H:%M:%S\")\n",
    "                                                                - datetime.strptime(str(prev['Date'])[:10] + \" \" + str(prev['Time']), \"%Y-%m-%d %H:%M:%S\")) + prev['interval']\n",
    "            except ValueError as e:\n",
    "                print(e)\n",
    "                print(str(row['Date']) + \" \" + str(row['Time']))\n",
    "                break\n",
    "\n",
    "            prev = row\n",
    "            data.iloc[j, 3] = row['interval']\n",
    "            j = j + 1\n",
    "\n",
    "    data['interval'] = data['interval'].apply(lambda x: abs(x/60))\n",
    "#    print(data.head())\n",
    "    return data\n"
   ],
   "outputs": [],
   "metadata": {}
  },
  {
   "cell_type": "code",
   "execution_count": 22,
   "source": [
    "def rdecay(data):\n",
    "    # print(data.head())\n",
    "    data['intervalReverse'] = 0\n",
    "    j = data.shape[0] - 1\n",
    "    for n in range(int(data.shape[0]/20)):\n",
    "        i = 0\n",
    "        df_group = data.iloc[n * 20:(n * 20) + 20, :]\n",
    "        df_group = df_group[::-1]\n",
    "        for index, row in df_group.iterrows(): #go over mask\n",
    "            if(i==0):\n",
    "                row['intervalReverse'] = 0\n",
    "                i=1\n",
    "            else:\n",
    "                if(prev[TARGET_FIELD] == 1):\n",
    "                    row['intervalReverse'] = timedelta.total_seconds(datetime.strptime(str(row['Date'])[:10] + \" \" + str(row['Time']), \"%Y-%m-%d %H:%M:%S\")\n",
    "                                                                   - datetime.strptime(str(prev['Date'])[:10] + \" \" + str(prev['Time']), \"%Y-%m-%d %H:%M:%S\"))\n",
    "                elif(prev[TARGET_FIELD] == 0):\n",
    "                    row['intervalReverse'] = timedelta.total_seconds(datetime.strptime(str(row['Date'])[:10] + \" \" + str(row['Time']), \"%Y-%m-%d %H:%M:%S\")\n",
    "                                                                   - datetime.strptime(str(prev['Date'])[:10] + \" \" + str(prev['Time']), \"%Y-%m-%d %H:%M:%S\")) + prev['interval']\n",
    "            prev = row\n",
    "            data.iloc[j, 4] = row['intervalReverse']\n",
    "            j = j - 1\n",
    "\n",
    "    data['intervalReverse'] = data['intervalReverse'].apply(lambda x: abs(x/60))\n",
    "#    print(data.head())\n",
    "    return data"
   ],
   "outputs": [],
   "metadata": {}
  },
  {
   "cell_type": "code",
   "execution_count": 23,
   "source": [
    "maskTrain = decay(maskTrain)\n",
    "# print(maskTrain.head())\n",
    "maskTrain = rdecay(maskTrain)"
   ],
   "outputs": [],
   "metadata": {}
  },
  {
   "cell_type": "code",
   "execution_count": 24,
   "source": [
    "maskVal = decay(maskVal)\n",
    "# print(maskVal.head())\n",
    "maskVal = rdecay(maskVal)"
   ],
   "outputs": [],
   "metadata": {}
  },
  {
   "cell_type": "code",
   "execution_count": 25,
   "source": [
    "maskTest = decay(maskTest)\n",
    "# print(maskTest.head())\n",
    "maskTest = rdecay(maskTest)"
   ],
   "outputs": [],
   "metadata": {}
  },
  {
   "cell_type": "code",
   "execution_count": 26,
   "source": [
    "activityTrain.to_csv('/scratch/stoll/BiGAN/data/ibat/preprocess/airTrain.csv', index=False)\n",
    "maskTrain.to_csv('/scratch/stoll/BiGAN/data/ibat/preprocess/airTrainMask.csv', index=False)"
   ],
   "outputs": [],
   "metadata": {}
  },
  {
   "cell_type": "code",
   "execution_count": 27,
   "source": [
    "# activityVal.to_csv('.../aaai/data/mimic/preprocess/airVal.csv', index=False)\n",
    "# maskVal.to_csv('.../aaai/data/mimic/preprocess/airValMask.csv', index=False)"
   ],
   "outputs": [],
   "metadata": {}
  },
  {
   "cell_type": "code",
   "execution_count": 28,
   "source": [
    "# activityTest.to_csv('.../aaai/data/mimic/preprocess/airTest.csv', index=False)\n",
    "# maskTest.to_csv('.../aaai/data/mimic/preprocess/airTestMask.csv', index=False)"
   ],
   "outputs": [],
   "metadata": {}
  },
  {
   "cell_type": "code",
   "execution_count": null,
   "source": [],
   "outputs": [],
   "metadata": {}
  }
 ],
 "metadata": {
  "kernelspec": {
   "name": "python3",
   "display_name": "Python 3.9.5 64-bit ('BiGAN': conda)"
  },
  "language_info": {
   "codemirror_mode": {
    "name": "ipython",
    "version": 3
   },
   "file_extension": ".py",
   "mimetype": "text/x-python",
   "name": "python",
   "nbconvert_exporter": "python",
   "pygments_lexer": "ipython3",
   "version": "3.9.5"
  },
  "interpreter": {
   "hash": "0a22af5604703639258a51706230e7bc556e9a858939154b7bea874e1a460cea"
  }
 },
 "nbformat": 4,
 "nbformat_minor": 4
}